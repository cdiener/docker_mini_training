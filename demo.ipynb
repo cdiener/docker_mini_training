{
 "cells": [
  {
   "cell_type": "markdown",
   "metadata": {},
   "source": [
    "## An introduction to CobraPy "
   ]
  },
  {
   "cell_type": "markdown",
   "metadata": {},
   "source": [
    "CobraPy is a Python package to help with the construction and simulation of genome-scale metabolic models (GSMs). You can find more info in the [detailed documentation](https://cobrapy.readthedocs.org/en/stable/). Here we will just go through a few examples and show you what you can do with CobraPy. \n",
    "\n",
    "This CobraPy installation works on Python 3 which is current and future Python version.\n",
    "This docker container also provides some additional Python libraries for plotting so you can visualize your results. In particular you can use the following libraries:\n",
    "\n",
    "- matplotlib for basic plotting\n",
    "- seaborn for nicer and more complex plots\n",
    "- numpy for basic algebra\n",
    "- scipy for scientific calculation (statistics, optimization, etc.)\n",
    "- pandas to handle complex data sets\n",
    "- statsmodels for linear modelling\n",
    "- the IBM cplex solver\n",
    "\n",
    "Okay, let's get started."
   ]
  },
  {
   "cell_type": "markdown",
   "metadata": {},
   "source": [
    "### Reading and inspecting models"
   ]
  },
  {
   "cell_type": "markdown",
   "metadata": {},
   "source": [
    "CobraPy supports imports for a lot of different formats, the most important probably SBML and the Matlab (.mat) format. This docker image also includes the last version of Recon 2 (v4) in .mat format. So we will read it."
   ]
  },
  {
   "cell_type": "code",
   "execution_count": null,
   "metadata": {
    "collapsed": false
   },
   "outputs": [],
   "source": [
    "from cobra.io import load_matlab_model\n",
    "recon2 = load_matlab_model(\"/models/Recon2.v04.mat\")\n",
    "recon2"
   ]
  },
  {
   "cell_type": "markdown",
   "metadata": {},
   "source": [
    "Let's extract some basic information from the model, such as number of reactions and metabolites."
   ]
  },
  {
   "cell_type": "code",
   "execution_count": null,
   "metadata": {
    "collapsed": false
   },
   "outputs": [],
   "source": [
    "print( \"{} reactions, {} genes, and {} metabolites.\"\n",
    "      .format(len(recon2.reactions), len(recon2.genes), len(recon2.metabolites)) )"
   ]
  },
  {
   "cell_type": "markdown",
   "metadata": {},
   "source": [
    "Okay, now let us find the PFK reaction."
   ]
  },
  {
   "cell_type": "code",
   "execution_count": null,
   "metadata": {
    "collapsed": false
   },
   "outputs": [],
   "source": [
    "pfk = recon2.reactions.get_by_id(\"PFK\")\n",
    "pfk"
   ]
  },
  {
   "cell_type": "code",
   "execution_count": null,
   "metadata": {
    "collapsed": false
   },
   "outputs": [],
   "source": [
    "pfk.build_reaction_string()"
   ]
  },
  {
   "cell_type": "code",
   "execution_count": null,
   "metadata": {
    "collapsed": false
   },
   "outputs": [],
   "source": [
    "pfk.gene_reaction_rule"
   ]
  },
  {
   "cell_type": "code",
   "execution_count": null,
   "metadata": {
    "collapsed": false
   },
   "outputs": [],
   "source": [
    "pfk.metabolites"
   ]
  },
  {
   "cell_type": "code",
   "execution_count": null,
   "metadata": {
    "collapsed": false
   },
   "outputs": [],
   "source": [
    "print(\"{} <= v_pfk <= {}\".format(pfk.lower_bound, pfk.upper_bound))"
   ]
  },
  {
   "cell_type": "code",
   "execution_count": null,
   "metadata": {
    "collapsed": false
   },
   "outputs": [],
   "source": [
    "print(pfk.reversibility)\n",
    "pfk.lower_bound = -1000\n",
    "print(pfk.reversibility)\n",
    "pfk.lower_bound = 0"
   ]
  },
  {
   "cell_type": "markdown",
   "metadata": {},
   "source": [
    "### Flux balance analysis and deletions"
   ]
  },
  {
   "cell_type": "markdown",
   "metadata": {},
   "source": [
    "Running the standard flux balance analyis, thus\n",
    "$$\n",
    "\\begin{align}\n",
    "&\\max v_{bm} \\\\\n",
    "s.t. \\quad&\\mathbf{Sv}=0\\\\ \n",
    "& l_i \\leq v_i \\leq u_i\n",
    "\\end{align}\n",
    "$$\n",
    "is pretty simple with"
   ]
  },
  {
   "cell_type": "code",
   "execution_count": null,
   "metadata": {
    "collapsed": false
   },
   "outputs": [],
   "source": [
    "recon2.optimize()"
   ]
  },
  {
   "cell_type": "markdown",
   "metadata": {},
   "source": [
    "You can specify solvers via the solver argument. Let's use that to time glpk vs. cplex."
   ]
  },
  {
   "cell_type": "code",
   "execution_count": null,
   "metadata": {
    "collapsed": false
   },
   "outputs": [],
   "source": [
    "print(\"GLPK:\")\n",
    "%timeit recon2.optimize()\n",
    "print(\"\\nCplex:\")\n",
    "%timeit recon2.optimize(solver=\"cplex\")"
   ]
  },
  {
   "cell_type": "markdown",
   "metadata": {},
   "source": [
    "Okay. We see that the model can grow. Now let us run all single gene deletions to see which reactions are essential."
   ]
  },
  {
   "cell_type": "code",
   "execution_count": null,
   "metadata": {
    "collapsed": false
   },
   "outputs": [],
   "source": [
    "import cobra.flux_analysis as fa\n",
    "growth_rates, status = fa.single_gene_deletion(recon2, solver=\"cplex\")"
   ]
  },
  {
   "cell_type": "code",
   "execution_count": null,
   "metadata": {
    "collapsed": false
   },
   "outputs": [],
   "source": [
    "from collections import Counter\n",
    "Counter(status.values())"
   ]
  },
  {
   "cell_type": "markdown",
   "metadata": {},
   "source": [
    "Now let's find out which gene deletions are essential. "
   ]
  },
  {
   "cell_type": "code",
   "execution_count": null,
   "metadata": {
    "collapsed": false
   },
   "outputs": [],
   "source": [
    "import numpy as np\n",
    "\n",
    "rates = np.array(list(growth_rates.values()))\n",
    "genes = np.array(list(growth_rates.keys()))\n",
    "\n",
    "genes[rates < 1e-6]"
   ]
  },
  {
   "cell_type": "markdown",
   "metadata": {},
   "source": [
    "This gives very few genes, since many enzymes have isoforms, etc. So single gene deletions always never kill the cell. If you want, you can use the `single_reaction_deletion` function to simulate deltions of whole reactions."
   ]
  },
  {
   "cell_type": "code",
   "execution_count": null,
   "metadata": {
    "collapsed": true
   },
   "outputs": [],
   "source": [
    "# fill in the rest here"
   ]
  },
  {
   "cell_type": "markdown",
   "metadata": {},
   "source": [
    "### Analyzing fluxes "
   ]
  },
  {
   "cell_type": "markdown",
   "metadata": {},
   "source": [
    "We already know that the optimal growth rate is obtained via the optimization of the FBA problem\n",
    "\n",
    "$$\n",
    "\\begin{align}\n",
    "&\\max v_{bm} \\\\\n",
    "s.t. \\quad&\\mathbf{Sv}=0\\\\ \n",
    "& l_i \\leq v_i \\leq u_i\n",
    "\\end{align}\n",
    "$$\n",
    "\n",
    "However, many different flux distributions can yield the optimum. So if we want to obatin fluxes from our FBA we will have to deal with this restriction. As a first step we will calculate the flux variablity. Using the following LP problems:\n",
    "\n",
    "$$\n",
    "\\begin{align}\n",
    "&\\min/\\max v_i \\\\\n",
    "s.t. \\quad&\\mathbf{Sv}=0\\\\ \n",
    "& l_i \\leq v_i \\leq u_i\\\\\n",
    "& v_{bm} = \\max v_{bm}\n",
    "\\end{align}\n",
    "$$\n",
    "\n",
    "This can be done via the `flux_variability_analysis` in `cobra.flux_analysis`. However, that will take a while even with cplex. So let us consider another option. \n",
    "\n",
    "We can assume that most living organisms will choose a flux solution which is \"economic\", meaning associated with the least cost. If we make that assumption we could use parsimonous FBA which uses the following LP:\n",
    "\n",
    "$$\n",
    "\\begin{align}\n",
    "&\\min\\sum v_i \\\\\n",
    "s.t. \\quad&\\mathbf{Sv}=0\\\\ \n",
    "& l_i \\leq v_i \\leq u_i\\\\\n",
    "& v_{bm} = \\max v_{bm}\n",
    "\\end{align}\n",
    "$$"
   ]
  },
  {
   "cell_type": "code",
   "execution_count": null,
   "metadata": {
    "collapsed": false
   },
   "outputs": [],
   "source": [
    "sol = fa.optimize_minimal_flux(recon2, solver=\"cplex\")"
   ]
  },
  {
   "cell_type": "code",
   "execution_count": null,
   "metadata": {
    "collapsed": false
   },
   "outputs": [],
   "source": [
    "fluxes = np.array(sol.x)\n",
    "len(fluxes[fluxes > 1e-6])"
   ]
  },
  {
   "cell_type": "code",
   "execution_count": null,
   "metadata": {
    "collapsed": false
   },
   "outputs": [],
   "source": [
    "%matplotlib inline\n",
    "import seaborn as sns\n",
    "sns.distplot(np.log(fluxes[fluxes > 1e-6]))"
   ]
  },
  {
   "cell_type": "markdown",
   "metadata": {},
   "source": [
    "## Gene reaction rules"
   ]
  },
  {
   "cell_type": "markdown",
   "metadata": {},
   "source": [
    "We can also try to count how many backups there are for each gene. For that we will count the number of \"ors\" in the gene reaction rules +1."
   ]
  },
  {
   "cell_type": "code",
   "execution_count": null,
   "metadata": {
    "collapsed": false
   },
   "outputs": [],
   "source": [
    "import re\n",
    "\n",
    "rex = re.compile(\"or\")\n",
    "\n",
    "def count_re(regex, rule): \n",
    "    return len(list(regex.finditer(rule)))"
   ]
  },
  {
   "cell_type": "code",
   "execution_count": null,
   "metadata": {
    "collapsed": false
   },
   "outputs": [],
   "source": [
    "ors = np.array([count_re(rex, r.gene_reaction_rule)+1 for r in recon2.reactions])\n",
    "\n",
    "print(\"Redundancy per reaction: {} +- {}.\".format(ors.mean(), ors.std()))"
   ]
  }
 ],
 "metadata": {
  "kernelspec": {
   "display_name": "Python 3",
   "language": "python",
   "name": "python3"
  },
  "language_info": {
   "codemirror_mode": {
    "name": "ipython",
    "version": 3
   },
   "file_extension": ".py",
   "mimetype": "text/x-python",
   "name": "python",
   "nbconvert_exporter": "python",
   "pygments_lexer": "ipython3",
   "version": "3.4.2"
  }
 },
 "nbformat": 4,
 "nbformat_minor": 0
}
